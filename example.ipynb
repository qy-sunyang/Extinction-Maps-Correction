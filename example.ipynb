{
 "cells": [
  {
   "cell_type": "code",
   "execution_count": null,
   "id": "44549f2b-bbd7-47e3-8466-2ca636f55193",
   "metadata": {},
   "outputs": [],
   "source": [
    "from astropy.coordinates import SkyCoord\n",
    "from extinction_correct import *\n",
    "from map_download import *"
   ]
  },
  {
   "cell_type": "code",
   "execution_count": null,
   "id": "e3895b48-06e0-42e9-a816-2deddae9c5d5",
   "metadata": {},
   "outputs": [],
   "source": [
    "SFD_query()"
   ]
  },
  {
   "cell_type": "code",
   "execution_count": null,
   "id": "88103ae7-0aef-43eb-b914-a382348a1f1b",
   "metadata": {},
   "outputs": [],
   "source": [
    "#sky coordinates for querying\n",
    "c = SkyCoord([180, 45., 180., 80.], [40,15, 0., -15.], frame=\"galactic\", unit=\"deg\")"
   ]
  },
  {
   "cell_type": "code",
   "execution_count": null,
   "id": "6b82cd28-e0d1-425c-bf2b-6bd9af400ae6",
   "metadata": {},
   "outputs": [],
   "source": [
    "#SFD\n",
    "sfd_reddening_correction(c)"
   ]
  },
  {
   "cell_type": "code",
   "execution_count": null,
   "id": "1132d88a-721a-4f60-be21-c6c35975ab2d",
   "metadata": {},
   "outputs": [],
   "source": [
    "#Planck2014-R\n",
    "Planck2014R_reddening_correction(c)"
   ]
  },
  {
   "cell_type": "code",
   "execution_count": null,
   "id": "08a3e6bc-6a5d-4837-bf82-e340c1f59ea8",
   "metadata": {},
   "outputs": [],
   "source": [
    "#Planck2014-Tau\n",
    "Planck2014Tau_reddening_correction(c)"
   ]
  },
  {
   "cell_type": "code",
   "execution_count": null,
   "id": "00a41847-94db-4ddc-b1b1-be2bbdd5ff2d",
   "metadata": {},
   "outputs": [],
   "source": [
    "#Planck2019-Tau\n",
    "Planck2019Tau_reddening_correction(c)"
   ]
  },
  {
   "cell_type": "code",
   "execution_count": null,
   "id": "96b75972-49e1-4c1e-8293-5a6bc44473e7",
   "metadata": {},
   "outputs": [],
   "source": []
  }
 ],
 "metadata": {
  "kernelspec": {
   "display_name": "Python 3 (ipykernel)",
   "language": "python",
   "name": "python3"
  },
  "language_info": {
   "codemirror_mode": {
    "name": "ipython",
    "version": 3
   },
   "file_extension": ".py",
   "mimetype": "text/x-python",
   "name": "python",
   "nbconvert_exporter": "python",
   "pygments_lexer": "ipython3",
   "version": "3.9.7"
  }
 },
 "nbformat": 4,
 "nbformat_minor": 5
}
