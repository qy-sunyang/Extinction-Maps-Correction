{
 "cells": [
  {
   "cell_type": "code",
   "execution_count": 12,
   "id": "44549f2b-bbd7-47e3-8466-2ca636f55193",
   "metadata": {},
   "outputs": [],
   "source": [
    "from astropy.coordinates import SkyCoord\n",
    "from extinction_correct import *"
   ]
  },
  {
   "cell_type": "code",
   "execution_count": 13,
   "id": "88103ae7-0aef-43eb-b914-a382348a1f1b",
   "metadata": {},
   "outputs": [],
   "source": [
    "#sky coordinates for querying\n",
    "c = SkyCoord([180, 45., 180., 80.], [40,15, 0., -15.], frame=\"galactic\", unit=\"deg\")"
   ]
  },
  {
   "cell_type": "code",
   "execution_count": 14,
   "id": "6b82cd28-e0d1-425c-bf2b-6bd9af400ae6",
   "metadata": {},
   "outputs": [
    {
     "name": "stderr",
     "output_type": "stream",
     "text": [
      "WARNING:root:Coordinates [2] are out of application range (E(B-V)>=0.3)\n",
      "WARNING:root:Coordinates [1] cannot get a reasonable k_fit value.\n"
     ]
    },
    {
     "data": {
      "text/plain": [
       "(array([0.02857005, 0.27206674, 1.4048629 , 0.18249302], dtype=float32),\n",
       " array([0.02582535,        nan,        nan, 0.15870613], dtype=float32))"
      ]
     },
     "execution_count": 14,
     "metadata": {},
     "output_type": "execute_result"
    }
   ],
   "source": [
    "#SFD\n",
    "sfd_reddening_correction(c)"
   ]
  },
  {
   "cell_type": "code",
   "execution_count": 15,
   "id": "1132d88a-721a-4f60-be21-c6c35975ab2d",
   "metadata": {},
   "outputs": [
    {
     "name": "stderr",
     "output_type": "stream",
     "text": [
      "WARNING:root:Coordinates [1 2] are out of application range (E(B-V)>=0.3)\n",
      "WARNING:root:Coordinates [3] cannot get a reasonable k_fit value.\n"
     ]
    },
    {
     "data": {
      "text/plain": [
       "(array([0.03190715, 0.35823127, 0.81020362, 0.20635721]),\n",
       " array([0.02797893,        nan,        nan,        nan], dtype=float32))"
      ]
     },
     "execution_count": 15,
     "metadata": {},
     "output_type": "execute_result"
    }
   ],
   "source": [
    "#Planck2014-R\n",
    "Planck2014R_reddening_correction(c)"
   ]
  },
  {
   "cell_type": "code",
   "execution_count": 16,
   "id": "08a3e6bc-6a5d-4837-bf82-e340c1f59ea8",
   "metadata": {},
   "outputs": [
    {
     "name": "stderr",
     "output_type": "stream",
     "text": [
      "WARNING:root:Coordinates [2] are out of application range (E(B-V)>=0.3)\n"
     ]
    },
    {
     "data": {
      "text/plain": [
       "(array([0.02170366, 0.28252262, 1.5682452 , 0.16296367], dtype=float32),\n",
       " array([0.01919306, 0.25778398,        nan, 0.18203293], dtype=float32))"
      ]
     },
     "execution_count": 16,
     "metadata": {},
     "output_type": "execute_result"
    }
   ],
   "source": [
    "#Planck2014-Tau\n",
    "Planck2014Tau_reddening_correction(c)"
   ]
  },
  {
   "cell_type": "code",
   "execution_count": 17,
   "id": "00a41847-94db-4ddc-b1b1-be2bbdd5ff2d",
   "metadata": {},
   "outputs": [
    {
     "name": "stderr",
     "output_type": "stream",
     "text": [
      "WARNING:root:Coordinates [2] are out of application range (E(B-V)>=0.3)\n"
     ]
    },
    {
     "data": {
      "text/plain": [
       "(array([0.03047354, 0.26418102, 1.5365865 , 0.17965382], dtype=float32),\n",
       " array([0.02470022, 0.2415967 ,        nan, 0.16323042], dtype=float32))"
      ]
     },
     "execution_count": 17,
     "metadata": {},
     "output_type": "execute_result"
    }
   ],
   "source": [
    "#Planck2019-Tau\n",
    "Planck2019Tau_reddening_correction(c)"
   ]
  },
  {
   "cell_type": "code",
   "execution_count": null,
   "id": "96b75972-49e1-4c1e-8293-5a6bc44473e7",
   "metadata": {},
   "outputs": [],
   "source": []
  }
 ],
 "metadata": {
  "kernelspec": {
   "display_name": "Python 3 (ipykernel)",
   "language": "python",
   "name": "python3"
  },
  "language_info": {
   "codemirror_mode": {
    "name": "ipython",
    "version": 3
   },
   "file_extension": ".py",
   "mimetype": "text/x-python",
   "name": "python",
   "nbconvert_exporter": "python",
   "pygments_lexer": "ipython3",
   "version": "3.9.7"
  }
 },
 "nbformat": 4,
 "nbformat_minor": 5
}
